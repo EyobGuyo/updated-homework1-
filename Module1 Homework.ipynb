{
 "cells": [
  {
   "cell_type": "markdown",
   "metadata": {},
   "source": [
    "1. Print out your favorite color and write comment about what you are doing above the code."
   ]
  },
  {
   "cell_type": "code",
   "execution_count": 1,
   "metadata": {},
   "outputs": [
    {
     "name": "stdout",
     "output_type": "stream",
     "text": [
      "my favorite color is Blue\n"
     ]
    }
   ],
   "source": [
    "#Printing my favorite color \n",
    "print(\"my favorite color is Blue\")"
   ]
  },
  {
   "cell_type": "markdown",
   "metadata": {},
   "source": [
    "2. Print the sumation of numbers 1 through 10"
   ]
  },
  {
   "cell_type": "code",
   "execution_count": 59,
   "metadata": {},
   "outputs": [
    {
     "name": "stdout",
     "output_type": "stream",
     "text": [
      "55\n"
     ]
    }
   ],
   "source": [
    "'''i = 1\n",
    "while i <= 10:\n",
    "  print(i)\n",
    "  i += 1'''\n",
    "print(1+2+3+4+5+6+7+8+9+10)"
   ]
  },
  {
   "cell_type": "markdown",
   "metadata": {},
   "source": [
    "3. Print what 2 to the 8th power is."
   ]
  },
  {
   "cell_type": "code",
   "execution_count": 60,
   "metadata": {},
   "outputs": [
    {
     "data": {
      "text/plain": [
       "256"
      ]
     },
     "execution_count": 60,
     "metadata": {},
     "output_type": "execute_result"
    }
   ],
   "source": [
    "2**8 #Exponentiation"
   ]
  },
  {
   "cell_type": "markdown",
   "metadata": {},
   "source": [
    "4. Print the remainder of 100 divided by 11. "
   ]
  },
  {
   "cell_type": "code",
   "execution_count": 5,
   "metadata": {},
   "outputs": [
    {
     "data": {
      "text/plain": [
       "1"
      ]
     },
     "execution_count": 5,
     "metadata": {},
     "output_type": "execute_result"
    }
   ],
   "source": [
    "100 % 11"
   ]
  },
  {
   "cell_type": "markdown",
   "metadata": {},
   "source": [
    "5. What is the result of adding strings: 20, 8, 77?"
   ]
  },
  {
   "cell_type": "code",
   "execution_count": 1,
   "metadata": {},
   "outputs": [
    {
     "name": "stdout",
     "output_type": "stream",
     "text": [
      "20877\n"
     ]
    }
   ],
   "source": [
    "# we cant add strings but we can concatinate \n",
    "print(\"20\" + \"8\" + \"77\")"
   ]
  },
  {
   "cell_type": "markdown",
   "metadata": {},
   "source": [
    "6. Print out 100 divided by 5"
   ]
  },
  {
   "cell_type": "code",
   "execution_count": 6,
   "metadata": {},
   "outputs": [
    {
     "name": "stdout",
     "output_type": "stream",
     "text": [
      "20.0\n"
     ]
    }
   ],
   "source": [
    "print(100 / 5)"
   ]
  },
  {
   "cell_type": "markdown",
   "metadata": {},
   "source": [
    "7. What is the difference (subtraction) between 10/4 and 10//4?  Print out the result"
   ]
  },
  {
   "cell_type": "code",
   "execution_count": 61,
   "metadata": {},
   "outputs": [
    {
     "data": {
      "text/plain": [
       "0.5"
      ]
     },
     "execution_count": 61,
     "metadata": {},
     "output_type": "execute_result"
    }
   ],
   "source": [
    "(10/4)-(10//4)"
   ]
  },
  {
   "cell_type": "markdown",
   "metadata": {},
   "source": [
    "8. Create a variable called height and store your height value there.\n",
    "Print a sentence describing your height and use the variable in the sentence as well."
   ]
  },
  {
   "cell_type": "code",
   "execution_count": 16,
   "metadata": {},
   "outputs": [
    {
     "name": "stdout",
     "output_type": "stream",
     "text": [
      "My height is:  6.2\n"
     ]
    }
   ],
   "source": [
    "height = 6.2\n",
    "print(\"My height is: \", height) "
   ]
  },
  {
   "cell_type": "markdown",
   "metadata": {},
   "source": [
    "9. Print the same information as exercise 8 using a formatted string. "
   ]
  },
  {
   "cell_type": "code",
   "execution_count": 19,
   "metadata": {},
   "outputs": [
    {
     "name": "stdout",
     "output_type": "stream",
     "text": [
      "My height is: 6.2\n"
     ]
    }
   ],
   "source": [
    "print(f\"My height is: {height}\")"
   ]
  },
  {
   "cell_type": "markdown",
   "metadata": {},
   "source": [
    "10. Use two different (single and double) quotes in a string to print out a sentence"
   ]
  },
  {
   "cell_type": "code",
   "execution_count": 20,
   "metadata": {},
   "outputs": [
    {
     "name": "stdout",
     "output_type": "stream",
     "text": [
      "Python's hello world!\n"
     ]
    }
   ],
   "source": [
    "print(\"Python's hello world!\")"
   ]
  },
  {
   "cell_type": "markdown",
   "metadata": {},
   "source": [
    "11. Print out Hello World! 7 times each on a new line using only one line of code."
   ]
  },
  {
   "cell_type": "code",
   "execution_count": 24,
   "metadata": {},
   "outputs": [
    {
     "name": "stdout",
     "output_type": "stream",
     "text": [
      "Hello world\n",
      "Hello world\n",
      "Hello world\n",
      "Hello world\n",
      "Hello world\n",
      "Hello world\n",
      "Hello world\n",
      "\n"
     ]
    }
   ],
   "source": [
    "print(\"Hello world\\n\" * 7)"
   ]
  },
  {
   "cell_type": "markdown",
   "metadata": {},
   "source": [
    "12. Write a code to get two integers from a user. Then print out their summation, subtraction, multiplication, and division."
   ]
  },
  {
   "cell_type": "code",
   "execution_count": 27,
   "metadata": {},
   "outputs": [
    {
     "name": "stdout",
     "output_type": "stream",
     "text": [
      "Please insert the first number:\n",
      "-->1\n",
      "Please insert the second number:\n",
      "-->2\n",
      "1 2\n"
     ]
    }
   ],
   "source": [
    "#geting number from the user\n",
    "prompt=\"-->\"\n",
    "print(\"Please insert the first number:\")\n",
    "int1=int(input(prompt))\n",
    "print(\"Please insert the second number:\")\n",
    "int2=int(input(prompt))\n",
    "print(int1, int2) #check the numbers"
   ]
  },
  {
   "cell_type": "code",
   "execution_count": 38,
   "metadata": {},
   "outputs": [
    {
     "name": "stdout",
     "output_type": "stream",
     "text": [
      "The SUM of the above two numbers is:\t\t 3\n",
      "The subtraction of the above two numbers is:\t -1\n",
      "The multiplication of the above two numbers is: 2\n",
      "The division of the above two numbers is:\t 0.5\n"
     ]
    }
   ],
   "source": [
    "summation=int1+int2\n",
    "subtraction=int1-int2\n",
    "multiplication=int1*int2\n",
    "division=int1/int2\n",
    "print(f\"The SUM of the above two numbers is:\\t\\t {summation}\")\n",
    "print(f\"The subtraction of the above two numbers is:\\t {subtraction}\")\n",
    "print(f\"The multiplication of the above two numbers is: {multiplication}\")\n",
    "print(f\"The division of the above two numbers is:\\t {division}\")"
   ]
  },
  {
   "cell_type": "markdown",
   "metadata": {},
   "source": [
    "13. You and your collegue have been tasked to write a code to get 5 numbers from a user and then print out their summation and average in a formatted string.  Your partner wrote codes below.  Now it is up to you to fix all errors."
   ]
  },
  {
   "cell_type": "code",
   "execution_count": null,
   "metadata": {},
   "outputs": [],
   "source": [
    "prompt = f\"Enter a number: \"\n",
    "\n",
    "numb1 = input(''Enter a number: \")\n",
    "numb2 = input(\"Enter a number: \")\n",
    "numb1 = input(\"Enter a number: \")\n",
    "numb2 = input(\"Enter a number: \")\n",
    "num85 = input(\"Enter a number: \"))\n",
    "\n",
    "total = numb1 + numb2 + numb3 + numb4 + numb5\n",
    "avg = total // 5\n",
    "\n",
    "print(\"{numb1} + {numb2} + {numb3} + {numb4} + {numb5} = {total}\")\n",
    "print(\"average is {total}')"
   ]
  },
  {
   "cell_type": "code",
   "execution_count": 42,
   "metadata": {},
   "outputs": [
    {
     "name": "stdout",
     "output_type": "stream",
     "text": [
      "Enter the first number: \n",
      "--> 1\n",
      "Enter the second number: \n",
      "--> 2\n",
      "Enter the third number: \n",
      "--> 3\n",
      "Enter the fourth number: \n",
      "--> 4\n",
      "Enter the fifth number: \n",
      "--> 5\n",
      "1 + 2 + 3 + 4 + 5 = 15\n",
      "average is:3\n"
     ]
    }
   ],
   "source": [
    "prompt = \"--> \"\n",
    "print(\"Enter the first number: \")\n",
    "numb1 = int(input(prompt))\n",
    "print(\"Enter the second number: \")\n",
    "numb2 = int(input(prompt))\n",
    "print(\"Enter the third number: \")\n",
    "numb3 = int(input(prompt))\n",
    "print(\"Enter the fourth number: \")\n",
    "numb4 = int(input(prompt))\n",
    "print(\"Enter the fifth number: \")\n",
    "numb5 = int(input(prompt))\n",
    "\n",
    "total = numb1 + numb2 + numb3 + numb4 + numb5\n",
    "avg = total // 5\n",
    "\n",
    "print(f\"{numb1} + {numb2} + {numb3} + {numb4} + {numb5} = {total}\")\n",
    "print('average is:' f\"{avg}\")"
   ]
  },
  {
   "cell_type": "markdown",
   "metadata": {},
   "source": [
    "14. You and your partner have been assigned to a project to write a program to calculate the amount of runoff rain on a roof from any given rainfall.  \n",
    "\n",
    "You and your partner have figured out that to calculate the runoff from any given rainfall. \n",
    "\n",
    "You need to take the dimensions of the footprint of the roof and <b>convert them to inches</b> (ex - a 50' x 20' roof is 600\" x 240\"). The dimensions should be user submitted. \n",
    "\n",
    "Then, multiply the roof dimensions by the number of inches of rainfall. As an example, 600\" x 240\" x 1\" = 144,000 cubic inches of water for an inch of rainfall. Finally, divide that result by 231 to get the number of gallons (because 1 gallon = 231 cubic inches; 144,000/231 = 623.38).\n",
    "\n",
    "Your partner started coding before getting sick and it is up to you to finish the program."
   ]
  },
  {
   "cell_type": "code",
   "execution_count": 43,
   "metadata": {},
   "outputs": [
    {
     "ename": "SyntaxError",
     "evalue": "invalid syntax (357544916.py, line 8)",
     "output_type": "error",
     "traceback": [
      "\u001b[1;36m  Input \u001b[1;32mIn [43]\u001b[1;36m\u001b[0m\n\u001b[1;33m    area = width x length x rain\u001b[0m\n\u001b[1;37m                 ^\u001b[0m\n\u001b[1;31mSyntaxError\u001b[0m\u001b[1;31m:\u001b[0m invalid syntax\n"
     ]
    }
   ],
   "source": [
    "print(\"\\nRainfall Calculation ***\\n\")\n",
    "\n",
    "width = int(\"What's roof's width in foot? \")\n",
    "length = int(\"What's roof's length in foot? \")\n",
    "rain = int(\"How much did it rain? \")\n",
    "\n",
    "area = width x length x rain"
   ]
  },
  {
   "cell_type": "code",
   "execution_count": 47,
   "metadata": {},
   "outputs": [
    {
     "name": "stdout",
     "output_type": "stream",
     "text": [
      "Rainfall Calculator ***\n",
      "------------------------------\n",
      "What's roof's width in foot? \n",
      "--> 50\n",
      "What's roof's length in foot? \n",
      "--> 20\n",
      "How much did it rain in inch? \n",
      "--> 1\n",
      "144000 cubic inches of water rainfall.\n",
      "623.3766233766233: of gallons.\n"
     ]
    }
   ],
   "source": [
    "print(\"Rainfall Calculator ***\")\n",
    "print(\"-\" * 30)\n",
    "prompt = \"--> \"\n",
    "\n",
    "print(\"What's roof's width in foot? \")\n",
    "width = int(input(prompt))*12\n",
    "print(\"What's roof's length in foot? \")\n",
    "length = int(input(prompt))*12\n",
    "print(\"How much did it rain in inch? \")\n",
    "rain = int(input(prompt))\n",
    "\n",
    "cubicInch = width * length * rain\n",
    "print(f\"{cubicInch} \"'cubic inches of water rainfall.')\n",
    "gallon=cubicInch/231\n",
    "print(f\"{gallon}: \"'of gallons.')"
   ]
  },
  {
   "cell_type": "markdown",
   "metadata": {},
   "source": [
    "15. A program is required to get a customer’s name, a purchase amount and a discount rate (in %). The program must compute the discount amount, sales tax (6%) and the total amount due. Using one print statement, print the customer’s name, purchase amount, discount amount, sales tax and total amount due in friendly format."
   ]
  },
  {
   "cell_type": "code",
   "execution_count": 62,
   "metadata": {},
   "outputs": [
    {
     "name": "stdout",
     "output_type": "stream",
     "text": [
      "Please Enter Your name\n",
      "------------------------------\n",
      "--> eyob\n"
     ]
    }
   ],
   "source": [
    "\"\"\"\n",
    "print(\"Please Enter Your name\")\n",
    "print(\"-\" * 30)\n",
    "prompt = \"--> \"\n",
    "name = input(prompt)\n",
    "print(\"-\" * 30)\n",
    "Print (\"Enter number of item\")\n",
    "\"\"\""
   ]
  },
  {
   "cell_type": "code",
   "execution_count": 5,
   "metadata": {},
   "outputs": [
    {
     "name": "stdout",
     "output_type": "stream",
     "text": [
      "Customer nameeyob\n",
      "Price of purchase: 10\n",
      "Discount percentage: 2\n",
      "Name: eyob\n",
      " amount:10.0\n",
      " discount: 0.2\n",
      " Sales tax:0.588\n",
      " Total: 9.860000000000001\n"
     ]
    }
   ],
   "source": [
    "name=input(\"Customer name\")\n",
    "amount=float(input(\"Price of purchase: \"))\n",
    "discount=float(input(\"Discount percentage: \"))/100\n",
    "discount_amount=amount*discount\n",
    "subtotal=amount-discount_amount\n",
    "tax=.06\n",
    "sales_tax=subtotal*tax\n",
    "total=subtotal+tax\n",
    "print(f\"Name: {name}\\n amount:{amount}\\n discount: {discount_amount}\\n Sales tax:{sales_tax}\\n Total: {total}\")"
   ]
  },
  {
   "cell_type": "code",
   "execution_count": null,
   "metadata": {},
   "outputs": [],
   "source": []
  }
 ],
 "metadata": {
  "kernelspec": {
   "display_name": "Python 3 (ipykernel)",
   "language": "python",
   "name": "python3"
  },
  "language_info": {
   "codemirror_mode": {
    "name": "ipython",
    "version": 3
   },
   "file_extension": ".py",
   "mimetype": "text/x-python",
   "name": "python",
   "nbconvert_exporter": "python",
   "pygments_lexer": "ipython3",
   "version": "3.9.7"
  }
 },
 "nbformat": 4,
 "nbformat_minor": 4
}
